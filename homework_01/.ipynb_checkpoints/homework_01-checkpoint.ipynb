{
 "cells": [
  {
   "cell_type": "markdown",
   "id": "8955a739",
   "metadata": {},
   "source": [
    "# Домашнее задание: Базовые типы данных\n",
    "\n"
   ]
  },
  {
   "cell_type": "markdown",
   "id": "d4e67b86",
   "metadata": {},
   "source": [
    "## Задание 1: Зеркальное отражение цифр\n",
    "\n",
    "Пользователь вводит пятизначное число. Программа должна зеркально отразить три центральные цифры. Первая и последняя остаются на местах.\n",
    "\n",
    "<br>\n",
    "\n",
    "**Примеры:**\n",
    "* `23456 -> 25436`\n",
    "* `30789 -> 38709`"
   ]
  },
  {
   "cell_type": "code",
   "execution_count": 8,
   "id": "5a4d665d",
   "metadata": {},
   "outputs": [
    {
     "name": "stdin",
     "output_type": "stream",
     "text": [
      "Введите пятизначное число:  23456\n"
     ]
    },
    {
     "name": "stdout",
     "output_type": "stream",
     "text": [
      "25436\n"
     ]
    }
   ],
   "source": [
    "# Задание 1: Зеркальное отражение цифр\n",
    "\n",
    "number = input(\"Введите пятизначное число: \")\n",
    "    \n",
    "# Проверяем, что число пятизначное\n",
    "if len(number) != 5:\n",
    "    print(\"Ошибка: число должно быть пятизначным!\")\n",
    "else:\n",
    "    # Разбиваем на части: первая цифра, три центральные, последняя цифра\n",
    "    first_digit = number[0]\n",
    "    middle_three = number[1:4]\n",
    "    last_digit = number[4]\n",
    "    \n",
    "    # Зеркально отражаем три центральные цифры\n",
    "    mirrored_middle = middle_three[::-1]\n",
    "    \n",
    "    # Собираем результат\n",
    "    result = first_digit + mirrored_middle + last_digit\n",
    "    \n",
    "    print(int(result))"
   ]
  },
  {
   "cell_type": "markdown",
   "id": "00b9578b",
   "metadata": {},
   "source": [
    "## Задание 2: Подсчет выходных до отпуска\n",
    "\n",
    "Пользователь вводит сколько дней осталось до ближайшего отпуска. Программа должна вывести количество выходных дней до отпуска, если учесть, что выходные это суббота и воскресенье, сегодня понедельник и праздники мы не учитываем.  \n",
    "\n",
    "<br>\n",
    "\n",
    "**Примеры:**\n",
    "* `4  -> 0`\n",
    "* `6  -> 1`\n",
    "* `14 -> 4`"
   ]
  },
  {
   "cell_type": "code",
   "execution_count": 14,
   "id": "07154103",
   "metadata": {},
   "outputs": [
    {
     "name": "stdin",
     "output_type": "stream",
     "text": [
      "Введите количество дней до отпуска:  14\n"
     ]
    },
    {
     "name": "stdout",
     "output_type": "stream",
     "text": [
      "4\n"
     ]
    }
   ],
   "source": [
    "# Задание 2: Подсчет выходных до отпуска\n",
    "\n",
    "days = int(input(\"Введите количество дней до отпуска: \"))\n",
    "\n",
    "# Считаем количество полных недель\n",
    "full_weeks = days // 7\n",
    "\n",
    "# В каждой неделе 2 выходных (суббота и воскресенье)\n",
    "weekends = full_weeks * 2\n",
    "\n",
    "# Считаем оставшиеся дни после полных недель\n",
    "remaining_days = days % 7\n",
    "\n",
    "# В оставшихся днях проверяем, попадают ли они на выходные\n",
    "# Сегодня понедельник (день 1)\n",
    "# Выходные: суббота (день 6) и воскресенье (день 7)\n",
    "if remaining_days >= 6:      # если осталось 6+ дней, то будет 1 выходной (суббота)\n",
    "    weekends += 1\n",
    "elif remaining_days == 5:    # если осталось 5 дней, то выходных нет (пятница)\n",
    "    weekends += 0\n",
    "\n",
    "print(weekends)"
   ]
  },
  {
   "cell_type": "markdown",
   "id": "cdde282c",
   "metadata": {},
   "source": [
    "## Задание 3: Плитка шоколада\n",
    "\n",
    "Пользователь вводит длину и ширину плитки шоколада, а также размер куска, который хочет отломить. Программа должна вычислить - можно ли совершить подобный разлом или нет, если учесть, что ломать можно только по прямой.\n",
    "\n",
    "<br>\n",
    "\n",
    "**Примеры:**\n",
    "* `3, 4, 6  -> True`\n",
    "* `5, 7, 8  -> False`\n",
    "* `4, 5, 12 -> True`"
   ]
  },
  {
   "cell_type": "code",
   "execution_count": 17,
   "id": "70f3324c",
   "metadata": {},
   "outputs": [
    {
     "name": "stdin",
     "output_type": "stream",
     "text": [
      "Введите длину плитки:  4\n",
      "Введите ширину плитки:  5\n",
      "Введите размер куска:  12\n"
     ]
    },
    {
     "name": "stdout",
     "output_type": "stream",
     "text": [
      "True\n"
     ]
    }
   ],
   "source": [
    "# Задание 3: Плитка шоколада\n",
    "\n",
    "length = int(input(\"Введите длину плитки: \"))\n",
    "width = int(input(\"Введите ширину плитки: \"))\n",
    "piece = int(input(\"Введите размер куска: \"))\n",
    "\n",
    "# Проверяем, можно ли отломить кусок\n",
    "# Куск можно отломить если:\n",
    "# 1. Общий размер плитки больше или равен размеру куска\n",
    "# 2. Куск можно отломить по прямой (делится на длину или ширину без остатка)\n",
    "#    И при этом оставшаяся часть тоже будет прямоугольником\n",
    "\n",
    "if piece <= length * width:  # кусок не больше всей плитки\n",
    "    if piece % length == 0 or piece % width == 0:\n",
    "        print(True)\n",
    "    else:\n",
    "        print(False)\n",
    "else:\n",
    "    print(False)"
   ]
  },
  {
   "cell_type": "markdown",
   "id": "6470efc1",
   "metadata": {},
   "source": [
    "## Задание 4: Римские числа\n",
    "\n",
    "Пользователь вводит целое положительное число, программа должна вернуть строку в виде римского числа.\n",
    "\n",
    "<br>\n",
    "\n",
    "**Примеры:**\n",
    "* `3   -> III`\n",
    "* `15  -> XV`\n",
    "* `234 -> CCXXXIV`"
   ]
  },
  {
   "cell_type": "code",
   "execution_count": 19,
   "id": "8686127c",
   "metadata": {},
   "outputs": [
    {
     "name": "stdin",
     "output_type": "stream",
     "text": [
      "Введите целое положительное число:  15\n"
     ]
    },
    {
     "name": "stdout",
     "output_type": "stream",
     "text": [
      "XV\n"
     ]
    }
   ],
   "source": [
    "# Задание 4: Римские числа\n",
    "\n",
    "number = int(input(\"Введите целое положительное число: \"))\n",
    "\n",
    "# Создаем словари для преобразования\n",
    "thousands = [\"\", \"M\", \"MM\", \"MMM\"]\n",
    "hundreds = [\"\", \"C\", \"CC\", \"CCC\", \"CD\", \"D\", \"DC\", \"DCC\", \"DCCC\", \"CM\"]\n",
    "tens = [\"\", \"X\", \"XX\", \"XXX\", \"XL\", \"L\", \"LX\", \"LXX\", \"LXXX\", \"XC\"]\n",
    "ones = [\"\", \"I\", \"II\", \"III\", \"IV\", \"V\", \"VI\", \"VII\", \"VIII\", \"IX\"]\n",
    "\n",
    "# Разбиваем число на разряды\n",
    "thousands_digit = number // 1000\n",
    "hundreds_digit = (number % 1000) // 100\n",
    "tens_digit = (number % 100) // 10\n",
    "ones_digit = number % 10\n",
    "\n",
    "# Составляем римское число\n",
    "roman_number = (thousands[thousands_digit] + \n",
    "                hundreds[hundreds_digit] + \n",
    "                tens[tens_digit] + \n",
    "                ones[ones_digit])\n",
    "\n",
    "print(roman_number)"
   ]
  },
  {
   "cell_type": "markdown",
   "id": "ca6a4c0a",
   "metadata": {},
   "source": [
    "## Задание 5: Проверка на вещественное число\n",
    "\n",
    "Пользователь вводит данные, проверить - являются ли они положительным вещественным числом. Не использовать встроенные функции для проверки, только методы данных и конструкцию IF. (Дополнительное задание, по желанию - проверка на отрицательные вещественные числа)\n",
    "\n",
    "<br>\n",
    "\n",
    "**Примеры:**\n",
    "* `5.6  -> True`\n",
    "* `.78  -> True`\n",
    "* `.67. -> False`\n",
    "* `5    -> True`"
   ]
  },
  {
   "cell_type": "code",
   "execution_count": 22,
   "id": "74e39179",
   "metadata": {},
   "outputs": [
    {
     "name": "stdin",
     "output_type": "stream",
     "text": [
      "Введите данные:  енр\n"
     ]
    },
    {
     "name": "stdout",
     "output_type": "stream",
     "text": [
      "False\n"
     ]
    }
   ],
   "source": [
    "# Задание 5: Проверка на вещественное число\n",
    "\n",
    "data = input(\"Введите данные: \")\n",
    "\n",
    "# Проверяем, является ли строка положительным вещественным числом\n",
    "is_positive_float = True\n",
    "\n",
    "# Пустая строка не является числом\n",
    "if not data:\n",
    "    is_positive_float = False\n",
    "else:\n",
    "    dot_count = 0\n",
    "    has_digits = False\n",
    "    \n",
    "    for char in data:\n",
    "        if char == '.':\n",
    "            dot_count += 1\n",
    "        elif char.isdigit():\n",
    "            has_digits = True\n",
    "        else:\n",
    "            # Если символ не точка и не цифра - это не число\n",
    "            is_positive_float = False\n",
    "            break\n",
    "    \n",
    "    # Проверяем условия:\n",
    "    # - должна быть хотя бы одна цифра\n",
    "    # - точек должно быть не больше одной\n",
    "    # - не должно быть других символов\n",
    "    if dot_count > 1 or not has_digits:\n",
    "        is_positive_float = False\n",
    "\n",
    "print(is_positive_float)"
   ]
  },
  {
   "cell_type": "code",
   "execution_count": null,
   "id": "1cd8d01c-f510-4eb6-96cc-46875ab2a329",
   "metadata": {},
   "outputs": [],
   "source": []
  }
 ],
 "metadata": {
  "kernelspec": {
   "display_name": "Python 3 (ipykernel)",
   "language": "python",
   "name": "python3"
  },
  "language_info": {
   "codemirror_mode": {
    "name": "ipython",
    "version": 3
   },
   "file_extension": ".py",
   "mimetype": "text/x-python",
   "name": "python",
   "nbconvert_exporter": "python",
   "pygments_lexer": "ipython3",
   "version": "3.10.12"
  }
 },
 "nbformat": 4,
 "nbformat_minor": 5
}
