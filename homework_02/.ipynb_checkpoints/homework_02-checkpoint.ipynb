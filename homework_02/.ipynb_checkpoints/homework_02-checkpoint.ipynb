{
 "cells": [
  {
   "cell_type": "markdown",
   "id": "a2c501e6",
   "metadata": {},
   "source": [
    "# Домашнее задание: Управляющие конструкции"
   ]
  },
  {
   "cell_type": "markdown",
   "id": "3e4cac4a",
   "metadata": {},
   "source": [
    "## Задание 1: Получение однозначного числа\n",
    "\n",
    "Пользователь вводит целое число, программа складывает все цифры числа, с полученным числом — то же самое, и так до тех пор, пока не получится однозначное число.\n",
    "\n",
    "<br>\n",
    "\n",
    "**Примеры:**\n",
    "* `545   -> 5`\n",
    "* `12345 -> 6`"
   ]
  },
  {
   "cell_type": "code",
   "execution_count": 2,
   "id": "344e919f",
   "metadata": {},
   "outputs": [
    {
     "name": "stdin",
     "output_type": "stream",
     "text": [
      "Введите число:  12345\n"
     ]
    },
    {
     "name": "stdout",
     "output_type": "stream",
     "text": [
      "6\n"
     ]
    }
   ],
   "source": [
    "number = int(input(\"Введите число: \"))\n",
    "\n",
    "while number >= 10:\n",
    "    digit_sum = 0\n",
    "    for digit in str(number):\n",
    "        digit_sum += int(digit)\n",
    "    number = digit_sum\n",
    "\n",
    "print(number)"
   ]
  },
  {
   "cell_type": "markdown",
   "id": "45527a4a",
   "metadata": {},
   "source": [
    "## Задание 2: Кинотеатр\n",
    "\n",
    "Дан список списков, каждый вложенный список состоит из 1 и 0, количество вложенных списков — количество рядов. Пользователь вводит, сколько билетов ему требуется. Программа должна найти ряд, где можно приобрести нужное количество билетов (места должны быть рядом). Если таких рядов несколько, то ближайший к экрану (ближайшим считается нулевой ряд). Если таких мест нет, то вывести False.\n",
    "\n",
    "<br>\n",
    "\n",
    "**Примеры:**\n",
    "* `[[0,1,1,0], [1,0,0,0], [0,1,0,0]], 2 -> 1`\n",
    "* `[[0,1,1,0], [1,0,1,0], [1,1,0,1]], 2 -> False`"
   ]
  },
  {
   "cell_type": "code",
   "execution_count": 4,
   "id": "3a29082d",
   "metadata": {},
   "outputs": [
    {
     "name": "stdin",
     "output_type": "stream",
     "text": [
      "Введите количество билетов: 2\n"
     ]
    },
    {
     "name": "stdout",
     "output_type": "stream",
     "text": [
      "False\n"
     ]
    }
   ],
   "source": [
    "cinema = [[0,1,1,0], [1,0,1,0], [1,1,0,1]]\n",
    "tickets = int(input('Введите количество билетов:'))\n",
    "\n",
    "for row_num, row in enumerate(cinema):\n",
    "    free_seats = 0\n",
    "    for seat in row:\n",
    "        if seat == 0:\n",
    "            free_seats += 1\n",
    "            if free_seats >= tickets:\n",
    "                print(row_num)\n",
    "                break\n",
    "        else:\n",
    "            free_seats = 0\n",
    "    else:\n",
    "        continue\n",
    "    break\n",
    "else:\n",
    "    print(False)"
   ]
  },
  {
   "cell_type": "markdown",
   "id": "7b7f098c",
   "metadata": {},
   "source": [
    "## Задание 3: Алгоритм RLE\n",
    "\n",
    "Необходимо написать упрощенную версию алгоритма RLE. \n",
    "Алгоритм RLE объединяет подряд идущие символы в коэффициент и символ.\n",
    "\n",
    "<br>\n",
    "\n",
    "**Примеры:**\n",
    "* `asssdddsssddd -> 1a3s3d3s3d`\n",
    "* `aaabbbbccccc  -> 3a4b5c`\n",
    "* `abcba         -> 1a1b1c1b1a`"
   ]
  },
  {
   "cell_type": "code",
   "execution_count": 6,
   "id": "e0d30ec2",
   "metadata": {},
   "outputs": [
    {
     "name": "stdin",
     "output_type": "stream",
     "text": [
      "Введите строку для сжатия:  abcba\n"
     ]
    },
    {
     "name": "stdout",
     "output_type": "stream",
     "text": [
      "1a1b1c1b1a\n"
     ]
    }
   ],
   "source": [
    "text = input(\"Введите строку для сжатия: \")\n",
    "\n",
    "result = \"\"\n",
    "count = 1\n",
    "\n",
    "# Проходим по всем символам строки\n",
    "for i in range(len(text)):\n",
    "    # Если это последний символ или следующий символ отличается\n",
    "    if i == len(text) - 1 or text[i] != text[i + 1]:\n",
    "        result += str(count) + text[i]\n",
    "        count = 1\n",
    "    else:\n",
    "        count += 1\n",
    "\n",
    "print(result)"
   ]
  },
  {
   "cell_type": "markdown",
   "id": "f24d5e58",
   "metadata": {},
   "source": [
    "## Задание 4: Шифр Цезаря\n",
    "\n",
    "Реализуйте программу для шифрования текста с помощью шифра Цезаря.  \n",
    "Шифр Цезаря — это метод шифрования, при котором каждая буква в тексте заменяется буквой, стоящей на фиксированное число позиций дальше в алфавите.\n",
    "\n",
    "### Требования\n",
    "1. Программа должна принимать на вход:\n",
    "   - Строку текста для шифрования\n",
    "   - Ключ шифра (число от 0 до 25)\n",
    "\n",
    "2. Правила шифрования:\n",
    "   - Шифруются только латинские буквы (a-z, A-Z)\n",
    "   - Сохраняется регистр букв (заглавные остаются заглавными)\n",
    "   - Пробелы, цифры и знаки препинания остаются без изменений\n",
    "   - Сдвиг циклический (после 'z' идет 'a', после 'Z' идет 'A')\n",
    "\n",
    "### Примеры\n",
    "\n",
    "* `\"Hello World\", 3      -> \"Khoor Zruog\"`\n",
    "* `\"Python is great!\", 5 -> \"Udymts nx lwjfy!\"`\n",
    "* `\"XYZ abc\", 3          -> \"ABC def\"`\n",
    "* `\"Test 123\", 1         -> \"Uftu 123\"`\n",
    "\n",
    "### Алгоритм\n",
    "* Для каждого символа в строке:\n",
    "   - Если это латинская буква, найти её позицию в алфавите\n",
    "   - Добавить к позиции значение ключа\n",
    "   - Если результат больше 25, использовать остаток от деления на 26\n",
    "   - Преобразовать обратно в букву, сохранив регистр\n",
    "   - Если это не буква, оставить символ без изменений\n"
   ]
  },
  {
   "cell_type": "code",
   "execution_count": 9,
   "id": "6a075d20",
   "metadata": {},
   "outputs": [
    {
     "name": "stdin",
     "output_type": "stream",
     "text": [
      "Введите текст для шифрования:  XYZ abc\n",
      "Введите ключ (0-25):  3\n"
     ]
    },
    {
     "name": "stdout",
     "output_type": "stream",
     "text": [
      "ABC def\n"
     ]
    }
   ],
   "source": [
    "# Задание 4: Шифр Цезаря\n",
    "\n",
    "text = input(\"Введите текст для шифрования: \")\n",
    "key = int(input(\"Введите ключ (0-25): \"))\n",
    "\n",
    "result = \"\"\n",
    "\n",
    "for char in text:\n",
    "    if 'a' <= char <= 'z':\n",
    "        # Шифруем строчные буквы\n",
    "        new_char = chr((ord(char) - ord('a') + key) % 26 + ord('a'))\n",
    "        result += new_char\n",
    "    elif 'A' <= char <= 'Z':\n",
    "        # Шифруем заглавные буквы\n",
    "        new_char = chr((ord(char) - ord('A') + key) % 26 + ord('A'))\n",
    "        result += new_char\n",
    "    else:\n",
    "        # Оставляем без изменений пробелы, цифры и знаки препинания\n",
    "        result += char\n",
    "\n",
    "print(result)"
   ]
  },
  {
   "cell_type": "markdown",
   "id": "c88bf52c",
   "metadata": {},
   "source": [
    "## Задание 5: Табель успеваемости\n",
    "\n",
    "Пользователь в бесконечном цикле (пока не будет введена пустая строка) вводит строки вида: 'название предмета' 'фамилия ученика' 'оценка'. После окончания ввода программа выводит в консоль название предмета, далее список учеников и все их оценки в виде таблицы.\n",
    "\n",
    "<br>\n",
    "\n",
    "**Примеры:**\n",
    "\n",
    "<br>\n",
    "\n",
    "*Ввод:*\n",
    "```python\n",
    "Математика Иванов  5\n",
    "Математика Иванов  4\n",
    "Литература Иванов  3\n",
    "Математика Петров  5\n",
    "Литература Сидоров 3\n",
    "Литература Петров  5\n",
    "Литература Иванов  4\n",
    "Математика Сидоров 3\n",
    "Математика Петров  5\n",
    "```\n",
    "\n",
    "<br>\n",
    "\n",
    "*Результат:*\n",
    "```python\n",
    "Математика # вводим название предмета\n",
    "\n",
    "# выводим список учеников и их оценки\n",
    "Иванов  5 4\n",
    "Петров  5 5\n",
    "Сидоров 3\n",
    "```\n",
    "\n",
    "```python\n",
    "Литература # вводим название предмета\n",
    "\n",
    "# выводим список учеников и их оценки\n",
    "Иванов  3 4\n",
    "Сидоров 3\n",
    "Петров  5\n",
    "```"
   ]
  },
  {
   "cell_type": "code",
   "execution_count": 15,
   "id": "196f6ff4",
   "metadata": {},
   "outputs": [
    {
     "name": "stdout",
     "output_type": "stream",
     "text": [
      "Введите данные (пустая строка для завершения):\n"
     ]
    },
    {
     "name": "stdin",
     "output_type": "stream",
     "text": [
      " Математика Иванов  5\n",
      " Математика Иванов  4\n",
      " Литература Иванов  3\n",
      " Математика Петров  5\n",
      " Литература Сидоров 3\n",
      " Литература Петров  5\n",
      " Литература Иванов  4\n",
      " Математика Сидоров 3\n",
      " Математика Петров  5\n",
      " \n"
     ]
    },
    {
     "name": "stdout",
     "output_type": "stream",
     "text": [
      "\n",
      "Математика\n",
      "Иванов  5 4\n",
      "Петров  5 5\n",
      "Сидоров  3\n",
      "\n",
      "Литература\n",
      "Иванов  3 4\n",
      "Сидоров  3\n",
      "Петров  5\n"
     ]
    }
   ],
   "source": [
    "# Задание 5: Табель успеваемости\n",
    "\n",
    "# Создаем словарь для хранения данных\n",
    "subjects = {}\n",
    "\n",
    "print(\"Введите данные (пустая строка для завершения):\")\n",
    "while True:\n",
    "    data = input()\n",
    "    if data == \"\":\n",
    "        break\n",
    "    \n",
    "    # Разбиваем строку на части\n",
    "    parts = data.split()\n",
    "    if len(parts) < 3:\n",
    "        continue\n",
    "        \n",
    "    subject = parts[0]\n",
    "    student = parts[1]\n",
    "    grade = parts[2]\n",
    "    \n",
    "    # Добавляем данные в словарь\n",
    "    if subject not in subjects:\n",
    "        subjects[subject] = {}\n",
    "    \n",
    "    if student not in subjects[subject]:\n",
    "        subjects[subject][student] = []\n",
    "    \n",
    "    subjects[subject][student].append(grade)\n",
    "\n",
    "# Выводим результаты\n",
    "for subject, students in subjects.items():\n",
    "    print(f\"\\n{subject}\")\n",
    "    for student, grades in students.items():\n",
    "        print(f\"{student}  {' '.join(grades)}\")"
   ]
  },
  {
   "cell_type": "code",
   "execution_count": null,
   "id": "a1824674-3448-4ba6-9e1d-83b855675a9a",
   "metadata": {},
   "outputs": [],
   "source": [
    "Математика Иванов 3\n",
    "\n",
    "\n",
    "\n",
    "\n",
    "\n",
    "\n",
    "\n",
    "\n",
    "\n",
    "\n",
    "\n",
    "\n",
    "\n",
    "\n",
    "\n",
    "\n",
    "\n",
    "\n",
    "\n",
    "\n",
    "\n",
    "\n",
    "\n",
    "\n",
    "\n",
    "\n",
    "\n",
    "\n",
    " "
   ]
  },
  {
   "cell_type": "code",
   "execution_count": 12,
   "id": "f48603b1-d846-40ac-940e-89ccbe895502",
   "metadata": {},
   "outputs": [
    {
     "ename": "SyntaxError",
     "evalue": "invalid syntax (3349466397.py, line 1)",
     "output_type": "error",
     "traceback": [
      "\u001b[0;36m  Cell \u001b[0;32mIn[12], line 1\u001b[0;36m\u001b[0m\n\u001b[0;31m    Математика Иванов  5\u001b[0m\n\u001b[0m               ^\u001b[0m\n\u001b[0;31mSyntaxError\u001b[0m\u001b[0;31m:\u001b[0m invalid syntax\n"
     ]
    }
   ],
   "source": [
    "Математика Иванов  5\n",
    "Математика Иванов  4\n",
    "Литература Иванов  3\n",
    "Математика Петров  5\n",
    "\n",
    "\n",
    "Математика\n",
    "вапв\n"
   ]
  }
 ],
 "metadata": {
  "kernelspec": {
   "display_name": "Python 3 (ipykernel)",
   "language": "python",
   "name": "python3"
  },
  "language_info": {
   "codemirror_mode": {
    "name": "ipython",
    "version": 3
   },
   "file_extension": ".py",
   "mimetype": "text/x-python",
   "name": "python",
   "nbconvert_exporter": "python",
   "pygments_lexer": "ipython3",
   "version": "3.10.12"
  }
 },
 "nbformat": 4,
 "nbformat_minor": 5
}
