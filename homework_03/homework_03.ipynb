{
 "cells": [
  {
   "cell_type": "markdown",
   "id": "e2450ffa",
   "metadata": {},
   "source": [
    "# Домашнее задание: Функции"
   ]
  },
  {
   "cell_type": "markdown",
   "id": "8d062500",
   "metadata": {},
   "source": [
    "## Задание 1: Конвертер регистров\n",
    "\n",
    "Написать функцию, которая будет переводить snake_case в PascalCase и наоборот. \n",
    "\n",
    "Функция должна сама определять - какой формат ей передали. Можно добавить ключевой аргумент, который будет принудительно возвращать один из форматов.\n",
    "\n",
    "<br>\n",
    "\n",
    "**Примеры:**\n",
    "* `otus_course     -> OtusCourse`\n",
    "* `PythonIsTheBest -> python_is_the_best`\n",
    "\n"
   ]
  },
  {
   "cell_type": "code",
   "execution_count": 37,
   "id": "ec0075f5",
   "metadata": {},
   "outputs": [
    {
     "name": "stdout",
     "output_type": "stream",
     "text": [
      "hello_world\n"
     ]
    }
   ],
   "source": [
    "def convert_case(text, force_format=None):\n",
    "    \"\"\"\n",
    "    Конвертирует между snake_case и PascalCase.\n",
    "    \n",
    "    Args:\n",
    "        text (str): строка для конвертации\n",
    "        force_format (str): принудительная конвертация в указанный формат\n",
    "                           ('snake' или 'pascal')\n",
    "    \n",
    "    Returns:\n",
    "        str: конвертированная строка\n",
    "    \"\"\"\n",
    "    if force_format:\n",
    "        if force_format.lower() == 'snake':\n",
    "            return _to_snake_case(text)\n",
    "        elif force_format.lower() == 'pascal':\n",
    "            return _to_pascal_case(text)\n",
    "        else:\n",
    "            raise ValueError(\"force_format должен быть 'snake' или 'pascal'\")\n",
    "    \n",
    "    # Автоматическое определение формата\n",
    "    if '_' in text and text.islower():\n",
    "        # snake_case -> PascalCase\n",
    "        return _to_pascal_case(text)\n",
    "    else:\n",
    "        # PascalCase -> snake_case\n",
    "        return _to_snake_case(text)\n",
    "\n",
    "\n",
    "def _to_pascal_case(snake_str):\n",
    "    \"\"\"Конвертирует snake_case в PascalCase\"\"\"\n",
    "    if not snake_str or not isinstance(snake_str, str):\n",
    "        return snake_str\n",
    "    \n",
    "    # Разделяем по underscore и капитализируем каждое слово\n",
    "    components = snake_str.split('_')\n",
    "    # Убираем пустые строки и капитализируем\n",
    "    pascal_case = ''.join(word.capitalize() for word in components if word)\n",
    "    return pascal_case\n",
    "\n",
    "\n",
    "def _to_snake_case(pascal_str):\n",
    "    \"\"\"Конвертирует PascalCase в snake_case\"\"\"\n",
    "    if not pascal_str or not isinstance(pascal_str, str):\n",
    "        return pascal_str\n",
    "    \n",
    "    if not pascal_str[0].isupper():\n",
    "        # Если первая буква не заглавная, считаем что это уже snake_case\n",
    "        return pascal_str\n",
    "    \n",
    "    snake_case = []\n",
    "    for i, char in enumerate(pascal_str):\n",
    "        if char.isupper() and i > 0:\n",
    "            # Добавляем underscore перед заглавной буквой (кроме первой)\n",
    "            snake_case.append('_')\n",
    "        snake_case.append(char.lower())\n",
    "    \n",
    "    return ''.join(snake_case)\n",
    "\n",
    "print(convert_case('HelloWorld'))"
   ]
  },
  {
   "cell_type": "markdown",
   "id": "b8253fb9",
   "metadata": {},
   "source": [
    "## Задание 2: Проверка валидности даты\n",
    "\n",
    "Написать функцию проверяющую валидность введенной даты.\n",
    "\n",
    "<br>\n",
    "\n",
    "**Примеры:**\n",
    "* `29.02.2000 -> True`\n",
    "* `29.02.2001 -> False`\n",
    "* `31.04.1962 -> False`\n",
    "\n"
   ]
  },
  {
   "cell_type": "code",
   "execution_count": null,
   "id": "e7f4e9c8",
   "metadata": {},
   "outputs": [],
   "source": [
    "# ВАШ КОД ЗДЕСЬ"
   ]
  },
  {
   "cell_type": "markdown",
   "id": "2d77053e",
   "metadata": {},
   "source": [
    "## Задание 3: Проверка на простое число\n",
    "\n",
    "Функция проверки на простое число. Простые числа – это такие числа, которые делятся на себя и на единицу.\n",
    "\n",
    "<br>\n",
    "\n",
    "**Примеры:**\n",
    "* `17 -> True`\n",
    "* `20 -> False`\n",
    "* `23 -> True`"
   ]
  },
  {
   "cell_type": "code",
   "execution_count": null,
   "id": "c20728f6",
   "metadata": {},
   "outputs": [],
   "source": [
    "# ВАШ КОД ЗДЕСЬ"
   ]
  },
  {
   "cell_type": "markdown",
   "id": "29703efe",
   "metadata": {},
   "source": [
    "## Задание 4: Учет пользователей\n",
    "\n",
    "Пользователь в бесконечном цикле вводит данные пользователей: имя, затем фамилию, возраст и ID. Ввод продолжается до тех пор, пока не будет введено пустое поле. \n",
    "\n",
    "Пользователи заносятся в словарь, где ключ это ID пользователя, а остальные данные записываются в виде кортежа. \n",
    "\n",
    "**Программа должна проверять:**\n",
    "* имя и фамилия состоят только из символов и начинаются с большой буквы - если не с большой, то заменяет букву на большую;\n",
    "* возраст должен быть числом от 18 до 60;\n",
    "* ID - целое число, дополненное до 8 знаков незначащими нулями, ID должен быть уникальным.\n",
    "\n",
    "**Дополнительно:** написать функцию, которая будет выводить полученный словарь в виде таблицы."
   ]
  },
  {
   "cell_type": "code",
   "execution_count": null,
   "id": "54d1f971",
   "metadata": {},
   "outputs": [],
   "source": [
    "# ВАШ КОД ЗДЕСЬ"
   ]
  }
 ],
 "metadata": {
  "kernelspec": {
   "display_name": "Python 3 (ipykernel)",
   "language": "python",
   "name": "python3"
  },
  "language_info": {
   "codemirror_mode": {
    "name": "ipython",
    "version": 3
   },
   "file_extension": ".py",
   "mimetype": "text/x-python",
   "name": "python",
   "nbconvert_exporter": "python",
   "pygments_lexer": "ipython3",
   "version": "3.11.6"
  }
 },
 "nbformat": 4,
 "nbformat_minor": 5
}
